{
 "cells": [
  {
   "cell_type": "code",
   "execution_count": 1,
   "id": "955d30c8-c25a-486a-848f-7addd155116d",
   "metadata": {},
   "outputs": [
    {
     "ename": "AttributeError",
     "evalue": "type object 'EmailMessage' has no attribute 'load'",
     "output_type": "error",
     "traceback": [
      "\u001b[1;31m---------------------------------------------------------------------------\u001b[0m",
      "\u001b[1;31mAttributeError\u001b[0m                            Traceback (most recent call last)",
      "Cell \u001b[1;32mIn[1], line 4\u001b[0m\n\u001b[0;32m      1\u001b[0m \u001b[38;5;28;01mimport\u001b[39;00m \u001b[38;5;21;01maspose\u001b[39;00m\u001b[38;5;21;01m.\u001b[39;00m\u001b[38;5;21;01mwords\u001b[39;00m \u001b[38;5;28;01mas\u001b[39;00m \u001b[38;5;21;01maw\u001b[39;00m\n\u001b[0;32m      2\u001b[0m \u001b[38;5;28;01mfrom\u001b[39;00m \u001b[38;5;21;01memail\u001b[39;00m\u001b[38;5;21;01m.\u001b[39;00m\u001b[38;5;21;01mmessage\u001b[39;00m \u001b[38;5;28;01mimport\u001b[39;00m EmailMessage\n\u001b[1;32m----> 4\u001b[0m msg\u001b[38;5;241m=\u001b[39m \u001b[43mEmailMessage\u001b[49m\u001b[38;5;241;43m.\u001b[39;49m\u001b[43mload\u001b[49m(\u001b[38;5;124m'\u001b[39m\u001b[38;5;124m../data/testm.msg\u001b[39m\u001b[38;5;124m'\u001b[39m)\n\u001b[0;32m      5\u001b[0m msg\u001b[38;5;241m.\u001b[39msave(\u001b[38;5;124m\"\u001b[39m\u001b[38;5;124mtestm.html\u001b[39m\u001b[38;5;124m\"\u001b[39m, SaveOptions\u001b[38;5;241m.\u001b[39mdefault_html)\n\u001b[0;32m      7\u001b[0m doc \u001b[38;5;241m=\u001b[39m aw\u001b[38;5;241m.\u001b[39mDocument(\u001b[38;5;124m\"\u001b[39m\u001b[38;5;124m../data/testm.html\u001b[39m\u001b[38;5;124m\"\u001b[39m)\n",
      "\u001b[1;31mAttributeError\u001b[0m: type object 'EmailMessage' has no attribute 'load'"
     ]
    }
   ],
   "source": [
    "import aspose.words as aw\n",
    "from email.message import EmailMessage\n",
    "\n",
    "msg= EmailMessage.load('../data/testm.msg')\n",
    "msg.save(\"testm.html\", SaveOptions.default_html)\n",
    "\n",
    "doc = aw.Document(\"../data/testm.html\")\n",
    "doc.save(\"../data/testm.pdf\")"
   ]
  },
  {
   "cell_type": "code",
   "execution_count": null,
   "id": "a794d062-2558-40dc-b0c6-819b402785a7",
   "metadata": {},
   "outputs": [],
   "source": []
  }
 ],
 "metadata": {
  "kernelspec": {
   "display_name": "Python 3 (ipykernel)",
   "language": "python",
   "name": "python3"
  },
  "language_info": {
   "codemirror_mode": {
    "name": "ipython",
    "version": 3
   },
   "file_extension": ".py",
   "mimetype": "text/x-python",
   "name": "python",
   "nbconvert_exporter": "python",
   "pygments_lexer": "ipython3",
   "version": "3.11.4"
  }
 },
 "nbformat": 4,
 "nbformat_minor": 5
}
