{
 "cells": [
  {
   "cell_type": "code",
   "execution_count": 1,
   "id": "7d7da34a-c16e-4fb6-8ca8-38a787b73cdd",
   "metadata": {},
   "outputs": [
    {
     "name": "stdin",
     "output_type": "stream",
     "text": [
      "Please add fullpath for template:  ../data/test3.docx\n",
      "Please add fullpath for new docx:  ../data/test3a.docx\n"
     ]
    },
    {
     "name": "stdout",
     "output_type": "stream",
     "text": [
      "True\n"
     ]
    },
    {
     "name": "stderr",
     "output_type": "stream",
     "text": [
      "C:\\Users\\g02261\\AppData\\Local\\Temp\\ipykernel_10636\\3860317329.py:27: DeprecationWarning: merge_pages has been deprecated in favour of merge_templates\n",
      "  the_document.merge_pages([metadata])\n"
     ]
    }
   ],
   "source": [
    "from __future__ import print_function\n",
    "import os\n",
    "from mailmerge import MailMerge\n",
    "from datetime import date\n",
    "\n",
    "\n",
    "_data = {\n",
    "    'status': 'Gold',\n",
    "    'city': 'Springfield',\n",
    "    'phone_number': '800-555-5555',\n",
    "    'Business': 'Cool Shoes',\n",
    "    'zip': '55555',\n",
    "    'purchases': '$500,000',\n",
    "    'shipping_limit': '$500',\n",
    "    'state': 'MO',\n",
    "    'address': '1234 Main Street',\n",
    "    'date': '{:%d-%b-%Y}'.format(date.today()),\n",
    "    'discount': '5%',\n",
    "    'recipient': 'Mr. Jones'\n",
    "}\n",
    "\n",
    "\n",
    "def createDocument(template, metadata, document):\n",
    "    \"\"\"this function creates a new docx document based on \n",
    "    a template with Merge fields and a JSON content\"\"\"      \n",
    "    the_document = MailMerge(template)\n",
    "    the_document.merge_pages([metadata])\n",
    "    the_document.write(document)\n",
    "\n",
    "    if os.path.isfile(document):\n",
    "        status = True\n",
    "    else:\n",
    "        status = False\n",
    "    return status\n",
    "\n",
    "\n",
    "template_fullpath = input(\"Please add fullpath for template: \")\n",
    "docx_fullpath = input(\"Please add fullpath for new docx: \")\n",
    "\n",
    "docx_exists = createDocument(template_fullpath, _data, docx_fullpath)\n",
    "print(docx_exists)"
   ]
  }
 ],
 "metadata": {
  "kernelspec": {
   "display_name": "Python 3 (ipykernel)",
   "language": "python",
   "name": "python3"
  },
  "language_info": {
   "codemirror_mode": {
    "name": "ipython",
    "version": 3
   },
   "file_extension": ".py",
   "mimetype": "text/x-python",
   "name": "python",
   "nbconvert_exporter": "python",
   "pygments_lexer": "ipython3",
   "version": "3.11.4"
  }
 },
 "nbformat": 4,
 "nbformat_minor": 5
}
