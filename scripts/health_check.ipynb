{
 "cells": [
  {
   "cell_type": "code",
   "execution_count": 1,
   "id": "f8979cfc-afcd-49fc-b4e8-9fd0a575fafa",
   "metadata": {},
   "outputs": [],
   "source": [
    "import requests\n",
    "import time"
   ]
  },
  {
   "cell_type": "code",
   "execution_count": 2,
   "id": "949ebd85-ad77-447b-b0c5-c3ff3a74cc88",
   "metadata": {},
   "outputs": [
    {
     "name": "stdin",
     "output_type": "stream",
     "text": [
      "How many times to call the url (1..n)? :  10\n",
      "Sleeping time between requests (secondes) :  2\n",
      "How many are the urls (1..n)? :  1\n",
      "Enter the url :  http://localhost:6070\n"
     ]
    }
   ],
   "source": [
    "looping_times = int(input(\"How many times to call the url (1..n)? : \"))\n",
    "loop_sleeping = int(input(\"Sleeping time between requests (secondes) : \"))\n",
    "\n",
    "count_of_urls = int(input(\"How many are the urls (1..n)? : \"))\n",
    "\n",
    "counter = 0\n",
    "urls_list = []\n",
    "while (counter < count_of_urls):\n",
    "    _url = input(\"Enter the url : \")\n",
    "    urls_list.append(_url)\n",
    "    counter += 1"
   ]
  },
  {
   "cell_type": "code",
   "execution_count": 3,
   "id": "d8f0813f-b67c-4d94-9118-d3936900c9f8",
   "metadata": {},
   "outputs": [
    {
     "name": "stdout",
     "output_type": "stream",
     "text": [
      "Server is up but client error occured!\n",
      "------------------------------------------------------------------------------\n",
      "Server is up but client error occured!\n",
      "------------------------------------------------------------------------------\n",
      "Server is up but client error occured!\n",
      "------------------------------------------------------------------------------\n",
      "Server is up but client error occured!\n",
      "------------------------------------------------------------------------------\n",
      "Server is up but client error occured!\n",
      "------------------------------------------------------------------------------\n",
      "Server is up but client error occured!\n",
      "------------------------------------------------------------------------------\n",
      "Server is up but client error occured!\n",
      "------------------------------------------------------------------------------\n",
      "Server is up but client error occured!\n",
      "------------------------------------------------------------------------------\n",
      "Server is up but client error occured!\n",
      "------------------------------------------------------------------------------\n",
      "Server is up but client error occured!\n",
      "------------------------------------------------------------------------------\n"
     ]
    }
   ],
   "source": [
    "for i in range (looping_times):\n",
    "    for url in urls_list:\n",
    "        try:\n",
    "            response_head = requests.head(url)\n",
    "            if response_head.status_code == 200 or response_head.status_code == 201:\n",
    "                print(\"Server is up!\")\n",
    "            elif response_head.status_code >= 300 and response_head.status_code < 400:\n",
    "                print(\"Server is up and redirect!\")\n",
    "            elif response_head.status_code >= 400 and response_head.status_code < 500:\n",
    "                print(\"Server is up but client error occured!\")\n",
    "            elif response_head.status_code >= 500 and response_head.status_code < 600:\n",
    "                print(\"Server is up but server error occured!\")\n",
    "            else:\n",
    "                print(\"Server url is down!\")\n",
    "        except requests.ConnectionError as e:\n",
    "            print(\"There is a Connection error when calling the server check for url \" + url + \" - \" + str(e))\n",
    "\n",
    "    print(\"------------------------------------------------------------------------------\")\n",
    "    time.sleep(loop_sleeping) #sleep for x second"
   ]
  }
 ],
 "metadata": {
  "kernelspec": {
   "display_name": "Python 3 (ipykernel)",
   "language": "python",
   "name": "python3"
  },
  "language_info": {
   "codemirror_mode": {
    "name": "ipython",
    "version": 3
   },
   "file_extension": ".py",
   "mimetype": "text/x-python",
   "name": "python",
   "nbconvert_exporter": "python",
   "pygments_lexer": "ipython3",
   "version": "3.12.2"
  }
 },
 "nbformat": 4,
 "nbformat_minor": 5
}
