{
 "cells": [
  {
   "cell_type": "code",
   "execution_count": 2,
   "id": "b39781e1-f3d7-4310-b517-647a5fe896de",
   "metadata": {},
   "outputs": [
    {
     "ename": "JSONDecodeError",
     "evalue": "Expecting value: line 1 column 1 (char 0)",
     "output_type": "error",
     "traceback": [
      "\u001b[1;31m---------------------------------------------------------------------------\u001b[0m",
      "\u001b[1;31mJSONDecodeError\u001b[0m                           Traceback (most recent call last)",
      "File \u001b[1;32m~\\Documents\\DEVELOPMENT\\Jupyter-lab-scripting\\venv\\Lib\\site-packages\\requests\\models.py:971\u001b[0m, in \u001b[0;36mResponse.json\u001b[1;34m(self, **kwargs)\u001b[0m\n\u001b[0;32m    970\u001b[0m \u001b[38;5;28;01mtry\u001b[39;00m:\n\u001b[1;32m--> 971\u001b[0m     \u001b[38;5;28;01mreturn\u001b[39;00m \u001b[43mcomplexjson\u001b[49m\u001b[38;5;241;43m.\u001b[39;49m\u001b[43mloads\u001b[49m\u001b[43m(\u001b[49m\u001b[38;5;28;43mself\u001b[39;49m\u001b[38;5;241;43m.\u001b[39;49m\u001b[43mtext\u001b[49m\u001b[43m,\u001b[49m\u001b[43m \u001b[49m\u001b[38;5;241;43m*\u001b[39;49m\u001b[38;5;241;43m*\u001b[39;49m\u001b[43mkwargs\u001b[49m\u001b[43m)\u001b[49m\n\u001b[0;32m    972\u001b[0m \u001b[38;5;28;01mexcept\u001b[39;00m JSONDecodeError \u001b[38;5;28;01mas\u001b[39;00m e:\n\u001b[0;32m    973\u001b[0m     \u001b[38;5;66;03m# Catch JSON-related errors and raise as requests.JSONDecodeError\u001b[39;00m\n\u001b[0;32m    974\u001b[0m     \u001b[38;5;66;03m# This aliases json.JSONDecodeError and simplejson.JSONDecodeError\u001b[39;00m\n",
      "File \u001b[1;32m~\\AppData\\Local\\Programs\\Python\\Python311\\Lib\\json\\__init__.py:346\u001b[0m, in \u001b[0;36mloads\u001b[1;34m(s, cls, object_hook, parse_float, parse_int, parse_constant, object_pairs_hook, **kw)\u001b[0m\n\u001b[0;32m    343\u001b[0m \u001b[38;5;28;01mif\u001b[39;00m (\u001b[38;5;28mcls\u001b[39m \u001b[38;5;129;01mis\u001b[39;00m \u001b[38;5;28;01mNone\u001b[39;00m \u001b[38;5;129;01mand\u001b[39;00m object_hook \u001b[38;5;129;01mis\u001b[39;00m \u001b[38;5;28;01mNone\u001b[39;00m \u001b[38;5;129;01mand\u001b[39;00m\n\u001b[0;32m    344\u001b[0m         parse_int \u001b[38;5;129;01mis\u001b[39;00m \u001b[38;5;28;01mNone\u001b[39;00m \u001b[38;5;129;01mand\u001b[39;00m parse_float \u001b[38;5;129;01mis\u001b[39;00m \u001b[38;5;28;01mNone\u001b[39;00m \u001b[38;5;129;01mand\u001b[39;00m\n\u001b[0;32m    345\u001b[0m         parse_constant \u001b[38;5;129;01mis\u001b[39;00m \u001b[38;5;28;01mNone\u001b[39;00m \u001b[38;5;129;01mand\u001b[39;00m object_pairs_hook \u001b[38;5;129;01mis\u001b[39;00m \u001b[38;5;28;01mNone\u001b[39;00m \u001b[38;5;129;01mand\u001b[39;00m \u001b[38;5;129;01mnot\u001b[39;00m kw):\n\u001b[1;32m--> 346\u001b[0m     \u001b[38;5;28;01mreturn\u001b[39;00m \u001b[43m_default_decoder\u001b[49m\u001b[38;5;241;43m.\u001b[39;49m\u001b[43mdecode\u001b[49m\u001b[43m(\u001b[49m\u001b[43ms\u001b[49m\u001b[43m)\u001b[49m\n\u001b[0;32m    347\u001b[0m \u001b[38;5;28;01mif\u001b[39;00m \u001b[38;5;28mcls\u001b[39m \u001b[38;5;129;01mis\u001b[39;00m \u001b[38;5;28;01mNone\u001b[39;00m:\n",
      "File \u001b[1;32m~\\AppData\\Local\\Programs\\Python\\Python311\\Lib\\json\\decoder.py:337\u001b[0m, in \u001b[0;36mJSONDecoder.decode\u001b[1;34m(self, s, _w)\u001b[0m\n\u001b[0;32m    333\u001b[0m \u001b[38;5;250m\u001b[39m\u001b[38;5;124;03m\"\"\"Return the Python representation of ``s`` (a ``str`` instance\u001b[39;00m\n\u001b[0;32m    334\u001b[0m \u001b[38;5;124;03mcontaining a JSON document).\u001b[39;00m\n\u001b[0;32m    335\u001b[0m \n\u001b[0;32m    336\u001b[0m \u001b[38;5;124;03m\"\"\"\u001b[39;00m\n\u001b[1;32m--> 337\u001b[0m obj, end \u001b[38;5;241m=\u001b[39m \u001b[38;5;28;43mself\u001b[39;49m\u001b[38;5;241;43m.\u001b[39;49m\u001b[43mraw_decode\u001b[49m\u001b[43m(\u001b[49m\u001b[43ms\u001b[49m\u001b[43m,\u001b[49m\u001b[43m \u001b[49m\u001b[43midx\u001b[49m\u001b[38;5;241;43m=\u001b[39;49m\u001b[43m_w\u001b[49m\u001b[43m(\u001b[49m\u001b[43ms\u001b[49m\u001b[43m,\u001b[49m\u001b[43m \u001b[49m\u001b[38;5;241;43m0\u001b[39;49m\u001b[43m)\u001b[49m\u001b[38;5;241;43m.\u001b[39;49m\u001b[43mend\u001b[49m\u001b[43m(\u001b[49m\u001b[43m)\u001b[49m\u001b[43m)\u001b[49m\n\u001b[0;32m    338\u001b[0m end \u001b[38;5;241m=\u001b[39m _w(s, end)\u001b[38;5;241m.\u001b[39mend()\n",
      "File \u001b[1;32m~\\AppData\\Local\\Programs\\Python\\Python311\\Lib\\json\\decoder.py:355\u001b[0m, in \u001b[0;36mJSONDecoder.raw_decode\u001b[1;34m(self, s, idx)\u001b[0m\n\u001b[0;32m    354\u001b[0m \u001b[38;5;28;01mexcept\u001b[39;00m \u001b[38;5;167;01mStopIteration\u001b[39;00m \u001b[38;5;28;01mas\u001b[39;00m err:\n\u001b[1;32m--> 355\u001b[0m     \u001b[38;5;28;01mraise\u001b[39;00m JSONDecodeError(\u001b[38;5;124m\"\u001b[39m\u001b[38;5;124mExpecting value\u001b[39m\u001b[38;5;124m\"\u001b[39m, s, err\u001b[38;5;241m.\u001b[39mvalue) \u001b[38;5;28;01mfrom\u001b[39;00m \u001b[38;5;28;01mNone\u001b[39;00m\n\u001b[0;32m    356\u001b[0m \u001b[38;5;28;01mreturn\u001b[39;00m obj, end\n",
      "\u001b[1;31mJSONDecodeError\u001b[0m: Expecting value: line 1 column 1 (char 0)",
      "\nDuring handling of the above exception, another exception occurred:\n",
      "\u001b[1;31mJSONDecodeError\u001b[0m                           Traceback (most recent call last)",
      "Cell \u001b[1;32mIn[2], line 10\u001b[0m\n\u001b[0;32m      8\u001b[0m encoding \u001b[38;5;241m=\u001b[39m r\u001b[38;5;241m.\u001b[39mencoding\n\u001b[0;32m      9\u001b[0m text \u001b[38;5;241m=\u001b[39m r\u001b[38;5;241m.\u001b[39mtext\n\u001b[1;32m---> 10\u001b[0m json_data \u001b[38;5;241m=\u001b[39m \u001b[43mr\u001b[49m\u001b[38;5;241;43m.\u001b[39;49m\u001b[43mjson\u001b[49m\u001b[43m(\u001b[49m\u001b[43m)\u001b[49m\n\u001b[0;32m     12\u001b[0m \u001b[38;5;28mprint\u001b[39m(status)\n\u001b[0;32m     13\u001b[0m \u001b[38;5;28mprint\u001b[39m(content)\n",
      "File \u001b[1;32m~\\Documents\\DEVELOPMENT\\Jupyter-lab-scripting\\venv\\Lib\\site-packages\\requests\\models.py:975\u001b[0m, in \u001b[0;36mResponse.json\u001b[1;34m(self, **kwargs)\u001b[0m\n\u001b[0;32m    971\u001b[0m     \u001b[38;5;28;01mreturn\u001b[39;00m complexjson\u001b[38;5;241m.\u001b[39mloads(\u001b[38;5;28mself\u001b[39m\u001b[38;5;241m.\u001b[39mtext, \u001b[38;5;241m*\u001b[39m\u001b[38;5;241m*\u001b[39mkwargs)\n\u001b[0;32m    972\u001b[0m \u001b[38;5;28;01mexcept\u001b[39;00m JSONDecodeError \u001b[38;5;28;01mas\u001b[39;00m e:\n\u001b[0;32m    973\u001b[0m     \u001b[38;5;66;03m# Catch JSON-related errors and raise as requests.JSONDecodeError\u001b[39;00m\n\u001b[0;32m    974\u001b[0m     \u001b[38;5;66;03m# This aliases json.JSONDecodeError and simplejson.JSONDecodeError\u001b[39;00m\n\u001b[1;32m--> 975\u001b[0m     \u001b[38;5;28;01mraise\u001b[39;00m RequestsJSONDecodeError(e\u001b[38;5;241m.\u001b[39mmsg, e\u001b[38;5;241m.\u001b[39mdoc, e\u001b[38;5;241m.\u001b[39mpos)\n",
      "\u001b[1;31mJSONDecodeError\u001b[0m: Expecting value: line 1 column 1 (char 0)"
     ]
    }
   ],
   "source": [
    "import requests\n",
    "\n",
    "# r = requests.get(\"https://api.github.com/user\", auth=(\"user\", \"pass\"))\n",
    "r = requests.get(\"https://onboarding.atticabank.gr/web-app/\")\n",
    "\n",
    "status = r.status_code\n",
    "content = r.headers[\"content-type\"]\n",
    "encoding = r.encoding\n",
    "text = r.text\n",
    "json_data = r.json()\n",
    "\n",
    "print(status)\n",
    "print(content)\n",
    "print(encoding)\n",
    "print(text)\n",
    "print(json_data)"
   ]
  },
  {
   "cell_type": "code",
   "execution_count": 7,
   "id": "6265e9b4-3597-4d0c-a306-50959e0926cb",
   "metadata": {},
   "outputs": [
    {
     "ename": "SyntaxError",
     "evalue": "invalid syntax (4270452451.py, line 1)",
     "output_type": "error",
     "traceback": [
      "\u001b[1;36m  Cell \u001b[1;32mIn[7], line 1\u001b[1;36m\u001b[0m\n\u001b[1;33m    HTTP Method\tDescription\u001b[0m\n\u001b[1;37m         ^\u001b[0m\n\u001b[1;31mSyntaxError\u001b[0m\u001b[1;31m:\u001b[0m invalid syntax\n"
     ]
    }
   ],
   "source": [
    "HTTP Method\tDescription\n",
    "delete(url, args)\tSends a DELETE request to the specified url\n",
    "get(url, params, args)\tSends a GET request to the specified url\n",
    "head(url, args)\tSends a HEAD request to the specified url\n",
    "patch(url, data, args)\tSends a PATCH request to the specified url\n",
    "post(url, data, json, args)\tSends a POST request to the specified url\n",
    "put(url, data, args)\tSends a PUT request to the specified url\n",
    "request(method, url, args)\tSends a request of the specified method to the specified url"
   ]
  },
  {
   "cell_type": "code",
   "execution_count": 3,
   "id": "81dde9b3-77e4-4f35-a290-4e5168c9d97a",
   "metadata": {},
   "outputs": [
    {
     "name": "stdout",
     "output_type": "stream",
     "text": [
      "200\n"
     ]
    }
   ],
   "source": [
    "import requests\n",
    "\n",
    "url = \"https://www.w3schools.com/python/demopage.php\"\n",
    "myobj = {\"somekey\": \"somevalue\"}\n",
    "\n",
    "x = requests.post(url, json = myobj)\n",
    "\n",
    "print(x.status_code)"
   ]
  },
  {
   "cell_type": "code",
   "execution_count": 4,
   "id": "77cff975-3371-429d-9165-7e5e759e332f",
   "metadata": {},
   "outputs": [
    {
     "name": "stdout",
     "output_type": "stream",
     "text": [
      "{'PutMessageRequest': {'MsgDtTm': '2025-01-15T12:25:33.716Z', 'MsgID': '22E059B4EAC947E3A288EEDC39A35B67', 'Env': 'T', 'SndgInst': 'DIASGRA1', 'PayloadType': 'IPL/TC2Q', 'Payload': 'PD94bWwgdmVyc2lvbj0iMS4wIiBlbmNvZGluZz0iVVRGLTgiIHN0YW5kYWxvbmU9InllcyI/Pgo8bnMyOlRyeENvbXBsZXRpb24yIHhtbG5zOm5zMj0iaHR0cDovL3Byb3ZpZGVycy5pbnN0YW50cGF5bWVudHMuZGN0b25saW5lLmRpYXMuZ3IvIj4KICAgIDxHcm91cEhkcj4KICAgICAgICA8TXNnSWQ+MjJFMDU5QjRFQUM5NDdFM0EyODhFRURDMzlBMzVCNjc8L01zZ0lkPgogICAgICAgIDxNc2dEdFRtPjIwMjUtMDEtMTVUMTI6MjU6MzMuNzE2WjwvTXNnRHRUbT4KICAgICAgICA8U25kZ0luc3Q+RElBUzwvU25kZ0luc3Q+CiAgICAgICAgPFJwdENvdW50PjA8L1JwdENvdW50PgogICAgPC9Hcm91cEhkcj4KICAgIDxDdXN0c0luZj4KICAgICAgICA8RGJ0ckluZj4KICAgICAgICAgICAgPFByaUFsaWFzPgogICAgICAgICAgICAgICAgPEFsaWFzVHlwZT5NT0I8L0FsaWFzVHlwZT4KICAgICAgICAgICAgICAgIDxBbGlhc1ZhbHVlPjAwMzA2OTc5NTU3OTg1PC9BbGlhc1ZhbHVlPgogICAgICAgICAgICA8L1ByaUFsaWFzPgogICAgICAgICAgICA8Q3VzdFR5cGU+UEVSUzwvQ3VzdFR5cGU+CiAgICAgICAgICAgIDxDdXN0RGVzY3I+CiAgICAgICAgICAgICAgICA8Q3VzdERlc2NyTmFtZT7Om86Vzp3Ok86azp/OpSDOms6hzpnOo86kzpnOkc6dzp88L0N1c3REZXNjck5hbWU+CiAgICAgICAgICAgIDwvQ3VzdERlc2NyPgogICAgICAgIDwvRGJ0ckluZj4KICAgICAgICA8QmVuZWZJbmY+CiAgICAgICAgICAgIDxQcmlBbGlhcz4KICAgICAgICAgICAgICAgIDxBbGlhc1R5cGU+TU9CPC9BbGlhc1R5cGU+CiAgICAgICAgICAgICAgICA8QWxpYXNWYWx1ZT4wMDMwNjk3NjUxNjQwOTwvQWxpYXNWYWx1ZT4KICAgICAgICAgICAgPC9QcmlBbGlhcz4KICAgICAgICAgICAgPEN1c3RUeXBlPlBFUlM8L0N1c3RUeXBlPgogICAgICAgIDwvQmVuZWZJbmY+CiAgICAgICAgPE50ZmN0UHJlZj4KICAgICAgICAgICAgPFByZWY+CiAgICAgICAgICAgICAgICA8TnRmY3RNZXRoPk1PQjwvTnRmY3RNZXRoPgogICAgICAgICAgICAgICAgPE50ZmN0VmFsPjAwMzA2OTc2NTE2NDA5PC9OdGZjdFZhbD4KICAgICAgICAgICAgPC9QcmVmPgogICAgICAgICAgICA8UHJlZj4KICAgICAgICAgICAgICAgIDxOdGZjdE1ldGg+RU1BSUw8L050ZmN0TWV0aD4KICAgICAgICAgICAgICAgIDxOdGZjdFZhbD5hdHRpY2FvbmxpbmVyZXRhaWxAZ21haWwuY29tPC9OdGZjdFZhbD4KICAgICAgICAgICAgPC9QcmVmPgogICAgICAgIDwvTnRmY3RQcmVmPgogICAgPC9DdXN0c0luZj4KICAgIDxUcnhJbmY+CiAgICAgICAgPFRyeEFtdCBDY3k9IkVVUiI+MTUwLjAwPC9UcnhBbXQ+CiAgICAgICAgPFRyeFRpY2tldElkPm1wcGJhODExNTY1OTE3ZDQxZDlhMmE2OTMyNDMxOTUzZGI4PC9UcnhUaWNrZXRJZD4KICAgICAgICA8VHhJZD5GOTI4VE80MDA2NjI5ODI2PC9UeElkPgogICAgPC9UcnhJbmY+CjwvbnMyOlRyeENvbXBsZXRpb24yPg=='}}\n",
      "{'OriginChannelCode': 'BRANCH', 'OriginAppCode': 'T24', 'RequestUUID': 'd0c8fa4a-6997-4f49-ad88-de38f18ae42q', 'GlobalUUID': '6e3eeeba-c37a-403e-8b35-81adab850c15', 'Content-Type': 'application/json'}\n",
      "400\n"
     ]
    }
   ],
   "source": [
    "import requests\n",
    "\n",
    "url = \"http://acetst:9801/iris/inbound\"\n",
    "\n",
    "headers = {\n",
    "    \"OriginChannelCode\": \"BRANCH\",\n",
    "    \"OriginAppCode\": \"T24\",\n",
    "    \"RequestUUID\": \"d0c8fa4a-6997-4f49-ad88-de38f18ae42q\",\n",
    "    \"GlobalUUID\": \"6e3eeeba-c37a-403e-8b35-81adab850c15\",\n",
    "    \"Content-Type\": \"application/json\"\n",
    "    }\n",
    "\n",
    "data= {\n",
    "    \"PutMessageRequest\": {\n",
    "        \"MsgDtTm\": \"2025-01-15T12:25:33.716Z\",\n",
    "        \"MsgID\": \"22E059B4EAC947E3A288EEDC39A35B67\",\n",
    "        \"Env\": \"T\",\n",
    "        \"SndgInst\": \"DIASGRA1\",\n",
    "        \"PayloadType\": \"IPL/TC2Q\",\n",
    "        \"Payload\": \"PD94bWwgdmVyc2lvbj0iMS4wIiBlbmNvZGluZz0iVVRGLTgiIHN0YW5kYWxvbmU9InllcyI/Pgo8bnMyOlRyeENvbXBsZXRpb24yIHhtbG5zOm5zMj0iaHR0cDovL3Byb3ZpZGVycy5pbnN0YW50cGF5bWVudHMuZGN0b25saW5lLmRpYXMuZ3IvIj4KICAgIDxHcm91cEhkcj4KICAgICAgICA8TXNnSWQ+MjJFMDU5QjRFQUM5NDdFM0EyODhFRURDMzlBMzVCNjc8L01zZ0lkPgogICAgICAgIDxNc2dEdFRtPjIwMjUtMDEtMTVUMTI6MjU6MzMuNzE2WjwvTXNnRHRUbT4KICAgICAgICA8U25kZ0luc3Q+RElBUzwvU25kZ0luc3Q+CiAgICAgICAgPFJwdENvdW50PjA8L1JwdENvdW50PgogICAgPC9Hcm91cEhkcj4KICAgIDxDdXN0c0luZj4KICAgICAgICA8RGJ0ckluZj4KICAgICAgICAgICAgPFByaUFsaWFzPgogICAgICAgICAgICAgICAgPEFsaWFzVHlwZT5NT0I8L0FsaWFzVHlwZT4KICAgICAgICAgICAgICAgIDxBbGlhc1ZhbHVlPjAwMzA2OTc5NTU3OTg1PC9BbGlhc1ZhbHVlPgogICAgICAgICAgICA8L1ByaUFsaWFzPgogICAgICAgICAgICA8Q3VzdFR5cGU+UEVSUzwvQ3VzdFR5cGU+CiAgICAgICAgICAgIDxDdXN0RGVzY3I+CiAgICAgICAgICAgICAgICA8Q3VzdERlc2NyTmFtZT7Om86Vzp3Ok86azp/OpSDOms6hzpnOo86kzpnOkc6dzp88L0N1c3REZXNjck5hbWU+CiAgICAgICAgICAgIDwvQ3VzdERlc2NyPgogICAgICAgIDwvRGJ0ckluZj4KICAgICAgICA8QmVuZWZJbmY+CiAgICAgICAgICAgIDxQcmlBbGlhcz4KICAgICAgICAgICAgICAgIDxBbGlhc1R5cGU+TU9CPC9BbGlhc1R5cGU+CiAgICAgICAgICAgICAgICA8QWxpYXNWYWx1ZT4wMDMwNjk3NjUxNjQwOTwvQWxpYXNWYWx1ZT4KICAgICAgICAgICAgPC9QcmlBbGlhcz4KICAgICAgICAgICAgPEN1c3RUeXBlPlBFUlM8L0N1c3RUeXBlPgogICAgICAgIDwvQmVuZWZJbmY+CiAgICAgICAgPE50ZmN0UHJlZj4KICAgICAgICAgICAgPFByZWY+CiAgICAgICAgICAgICAgICA8TnRmY3RNZXRoPk1PQjwvTnRmY3RNZXRoPgogICAgICAgICAgICAgICAgPE50ZmN0VmFsPjAwMzA2OTc2NTE2NDA5PC9OdGZjdFZhbD4KICAgICAgICAgICAgPC9QcmVmPgogICAgICAgICAgICA8UHJlZj4KICAgICAgICAgICAgICAgIDxOdGZjdE1ldGg+RU1BSUw8L050ZmN0TWV0aD4KICAgICAgICAgICAgICAgIDxOdGZjdFZhbD5hdHRpY2FvbmxpbmVyZXRhaWxAZ21haWwuY29tPC9OdGZjdFZhbD4KICAgICAgICAgICAgPC9QcmVmPgogICAgICAgIDwvTnRmY3RQcmVmPgogICAgPC9DdXN0c0luZj4KICAgIDxUcnhJbmY+CiAgICAgICAgPFRyeEFtdCBDY3k9IkVVUiI+MTUwLjAwPC9UcnhBbXQ+CiAgICAgICAgPFRyeFRpY2tldElkPm1wcGJhODExNTY1OTE3ZDQxZDlhMmE2OTMyNDMxOTUzZGI4PC9UcnhUaWNrZXRJZD4KICAgICAgICA8VHhJZD5GOTI4VE80MDA2NjI5ODI2PC9UeElkPgogICAgPC9UcnhJbmY+CjwvbnMyOlRyeENvbXBsZXRpb24yPg==\"\n",
    "    }\n",
    "}\n",
    "\n",
    "print(data)\n",
    "print(headers)\n",
    "\n",
    "x = requests.post(url, data=data, headers=headers)\n",
    "\n",
    "print(x.status_code)"
   ]
  },
  {
   "cell_type": "code",
   "execution_count": null,
   "id": "c4c0f323-8eb7-465b-86d1-38098946249b",
   "metadata": {},
   "outputs": [],
   "source": []
  }
 ],
 "metadata": {
  "kernelspec": {
   "display_name": "Python 3 (ipykernel)",
   "language": "python",
   "name": "python3"
  },
  "language_info": {
   "codemirror_mode": {
    "name": "ipython",
    "version": 3
   },
   "file_extension": ".py",
   "mimetype": "text/x-python",
   "name": "python",
   "nbconvert_exporter": "python",
   "pygments_lexer": "ipython3",
   "version": "3.11.4"
  }
 },
 "nbformat": 4,
 "nbformat_minor": 5
}
