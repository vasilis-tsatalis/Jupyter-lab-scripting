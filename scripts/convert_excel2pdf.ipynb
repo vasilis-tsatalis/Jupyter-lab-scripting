{
 "cells": [
  {
   "cell_type": "code",
   "execution_count": 1,
   "id": "eb0dc5ca-92b4-4e20-80c2-5b81aada526f",
   "metadata": {},
   "outputs": [
    {
     "ename": "com_error",
     "evalue": "(-2147352567, 'Exception occurred.', (0, 'Microsoft Excel', \"Sorry, we couldn't find test1.xlsx. Is it possible it was moved, renamed or deleted?\", 'xlmain11.chm', 0, -2146827284), None)",
     "output_type": "error",
     "traceback": [
      "\u001b[1;31m---------------------------------------------------------------------------\u001b[0m",
      "\u001b[1;31mcom_error\u001b[0m                                 Traceback (most recent call last)",
      "Cell \u001b[1;32mIn[1], line 8\u001b[0m\n\u001b[0;32m      5\u001b[0m excel \u001b[38;5;241m=\u001b[39m client\u001b[38;5;241m.\u001b[39mDispatch(\u001b[38;5;124m\"\u001b[39m\u001b[38;5;124mExcel.Application\u001b[39m\u001b[38;5;124m\"\u001b[39m) \n\u001b[0;32m      7\u001b[0m \u001b[38;5;66;03m# Read Excel File \u001b[39;00m\n\u001b[1;32m----> 8\u001b[0m sheets \u001b[38;5;241m=\u001b[39m \u001b[43mexcel\u001b[49m\u001b[38;5;241;43m.\u001b[39;49m\u001b[43mWorkbooks\u001b[49m\u001b[38;5;241;43m.\u001b[39;49m\u001b[43mOpen\u001b[49m\u001b[43m(\u001b[49m\u001b[38;5;124;43m'\u001b[39;49m\u001b[38;5;124;43mtest1.xlsx\u001b[39;49m\u001b[38;5;124;43m'\u001b[39;49m\u001b[43m)\u001b[49m \n\u001b[0;32m      9\u001b[0m work_sheets \u001b[38;5;241m=\u001b[39m sheets\u001b[38;5;241m.\u001b[39mWorksheets[\u001b[38;5;241m1\u001b[39m] \n\u001b[0;32m     11\u001b[0m \u001b[38;5;66;03m# Convert into PDF File \u001b[39;00m\n",
      "File \u001b[1;32m<COMObject <unknown>>:5\u001b[0m, in \u001b[0;36mOpen\u001b[1;34m(self, Filename, UpdateLinks, ReadOnly, Format, Password, WriteResPassword, IgnoreReadOnlyRecommended, Origin, Delimiter, Editable, Notify, Converter, AddToMru, Local, CorruptLoad)\u001b[0m\n",
      "\u001b[1;31mcom_error\u001b[0m: (-2147352567, 'Exception occurred.', (0, 'Microsoft Excel', \"Sorry, we couldn't find test1.xlsx. Is it possible it was moved, renamed or deleted?\", 'xlmain11.chm', 0, -2146827284), None)"
     ]
    }
   ],
   "source": [
    "# Import Module \n",
    "from win32com import client \n",
    "  \n",
    "# Open Microsoft Excel \n",
    "excel = client.Dispatch(\"Excel.Application\") \n",
    "  \n",
    "# Read Excel File \n",
    "sheets = excel.Workbooks.Open('test1.xlsx') \n",
    "work_sheets = sheets.Worksheets[1] \n",
    "  \n",
    "# Convert into PDF File \n",
    "work_sheets.ExportAsFixedFormat(0, 'test1x.pdf') "
   ]
  },
  {
   "cell_type": "code",
   "execution_count": null,
   "id": "6dad8d92-cb59-46a2-8a85-72c93506f6f3",
   "metadata": {},
   "outputs": [],
   "source": []
  }
 ],
 "metadata": {
  "kernelspec": {
   "display_name": "Python 3 (ipykernel)",
   "language": "python",
   "name": "python3"
  },
  "language_info": {
   "codemirror_mode": {
    "name": "ipython",
    "version": 3
   },
   "file_extension": ".py",
   "mimetype": "text/x-python",
   "name": "python",
   "nbconvert_exporter": "python",
   "pygments_lexer": "ipython3",
   "version": "3.11.4"
  }
 },
 "nbformat": 4,
 "nbformat_minor": 5
}
