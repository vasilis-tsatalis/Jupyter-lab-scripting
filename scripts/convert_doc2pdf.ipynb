{
 "cells": [
  {
   "cell_type": "code",
   "execution_count": 1,
   "id": "9580560e-7acd-458d-821b-08f61ac1a2af",
   "metadata": {},
   "outputs": [
    {
     "name": "stdin",
     "output_type": "stream",
     "text": [
      "Please add fullpath for docx:  ../data/test2.docx\n",
      "Please add fullpath for pdf:  ../data/test1.pdf\n"
     ]
    },
    {
     "data": {
      "application/vnd.jupyter.widget-view+json": {
       "model_id": "877c14b27baf4f6b915aeced9e2d2596",
       "version_major": 2,
       "version_minor": 0
      },
      "text/plain": [
       "  0%|          | 0/1 [00:00<?, ?it/s]"
      ]
     },
     "metadata": {},
     "output_type": "display_data"
    },
    {
     "name": "stdout",
     "output_type": "stream",
     "text": [
      "True\n"
     ]
    }
   ],
   "source": [
    "import os\n",
    "from docx2pdf import convert  # convert docx to pdf\n",
    "\n",
    "def createPdf(input_file, output_file):\n",
    "    \"\"\"this function creates a new pdf document \n",
    "    based on a specific docx document\"\"\"\n",
    "    #convert(r'' + input_file, r'' + output_file)\n",
    "    convert(f'{input_file}',f'{output_file}')\n",
    "    if os.path.isfile(output_file):\n",
    "        status = True\n",
    "    else:\n",
    "        status = False\n",
    "    return status\n",
    "\n",
    "docx_fullpath = input(\"Please add fullpath for docx: \")\n",
    "pdf_fullpath = input(\"Please add fullpath for pdf: \")\n",
    "\n",
    "pdf_exists = createPdf(docx_fullpath, pdf_fullpath)\n",
    "print(pdf_exists)"
   ]
  }
 ],
 "metadata": {
  "kernelspec": {
   "display_name": "Python 3 (ipykernel)",
   "language": "python",
   "name": "python3"
  },
  "language_info": {
   "codemirror_mode": {
    "name": "ipython",
    "version": 3
   },
   "file_extension": ".py",
   "mimetype": "text/x-python",
   "name": "python",
   "nbconvert_exporter": "python",
   "pygments_lexer": "ipython3",
   "version": "3.11.4"
  }
 },
 "nbformat": 4,
 "nbformat_minor": 5
}
