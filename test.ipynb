{
 "cells": [
  {
   "cell_type": "code",
   "execution_count": 1,
   "id": "34201eca-8687-43de-8181-3d29e11092af",
   "metadata": {},
   "outputs": [
    {
     "name": "stdin",
     "output_type": "stream",
     "text": [
      "Give a name:  vasilis\n"
     ]
    }
   ],
   "source": [
    "name = input(\"Give a name: \")"
   ]
  },
  {
   "cell_type": "code",
   "execution_count": 2,
   "id": "6070fb35-3517-4c57-a393-6754b1b87538",
   "metadata": {},
   "outputs": [
    {
     "name": "stdout",
     "output_type": "stream",
     "text": [
      "vasilis\n"
     ]
    }
   ],
   "source": [
    "print(name)"
   ]
  },
  {
   "cell_type": "code",
   "execution_count": null,
   "id": "2c53a018-23e3-401e-9476-0e6f55e66dfd",
   "metadata": {},
   "outputs": [],
   "source": []
  }
 ],
 "metadata": {
  "kernelspec": {
   "display_name": "Python 3 (ipykernel)",
   "language": "python",
   "name": "python3"
  },
  "language_info": {
   "codemirror_mode": {
    "name": "ipython",
    "version": 3
   },
   "file_extension": ".py",
   "mimetype": "text/x-python",
   "name": "python",
   "nbconvert_exporter": "python",
   "pygments_lexer": "ipython3",
   "version": "3.12.2"
  }
 },
 "nbformat": 4,
 "nbformat_minor": 5
}
